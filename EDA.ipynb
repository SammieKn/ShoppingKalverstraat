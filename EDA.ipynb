{
 "cells": [
  {
   "cell_type": "markdown",
   "metadata": {},
   "source": [
    "# Shopping at the Kalverstraat\n",
    "\n",
    "## Abstract\n",
    "\n",
    "The Kalverstraat is one of the busiest shopping streets of Amsterdam. Known by the tourists, hated by the locals... Due to tourism the street is barely reachable and extremely expensive! In 2009 it was th 17th most expensive street in the world measured by rent prices ([source](https://web.archive.org/web/20131115020633/http://www.parool.nl/parool/nl/4/AMSTERDAM/article/detail/3544150/2013/11/13/Kalverstraat-stijgt-plek-in-lijst-duurste-winkelstraten.dhtml)).\n",
    "\n",
    "In this research I would like to identify when I can go shopping with my friends in peace. I will identify the busiest times and when it is save for us to go shopping. I'll also identify trends between traffic intensity and seasonal variations, f.i. does the rain influence the amount of people? \n",
    "\n",
    "## Skills\n",
    "\n",
    "I have applied the following skills during this research:\n",
    "\n",
    "## Data Source\n",
    "\n",
    "The data originated from the Langzaam Verkeer Monitoringsysteem Amsterdam ([LVMA](https://data.amsterdam.nl/data/datasets/PnrmHN-YvSqjhw/langzaam-verkeer-monitoringsysteem-amsterdam-lvma/)), or in English, Slow Traffic Monitoringsystem Amsterdam. The data from the LMVA provides information about the amount of passengers in the public space. Slow traffic refers to pedestrians and cyclists. More information can be found on the website of the Municipality of Amsterdam. \n",
    "\n",
    "The data has been filtered on the one sensor that can be seen below in the Kalverstraat. The data has also been filtered from 01-01-2023 up to 01-01-2024. Access to the data is via the [REST API](https://api.data.amsterdam.nl/v1/crowdmonitor/passanten/) and technical documentation can be found [here](https://api.data.amsterdam.nl/dcatd/datasets/PnrmHN-YvSqjhw/purls/2).\n",
    "\n",
    "<img src=\"./img/sensor_location.png\" alt=\"Sensor Location\" style=\"width: 50%; float: left;\"/>\n",
    "<img src=\"./img/kalverstraat.png\" alt=\"Sensor view\" style=\"width: 50%; float: right;\"/>\n"
   ]
  },
  {
   "cell_type": "markdown",
   "metadata": {
    "vscode": {
     "languageId": "plaintext"
    }
   },
   "source": [
    "## Preparations\n",
    "\n",
    "Before analysing the data in depth, a few preparations need to be done. The preparations include:\n",
    "\n",
    "1. Loading the required packages.\n",
    "2. Loading the data\n",
    "4. Cleaning the data (dropping columns, renaming, checking for missing values, check data types)"
   ]
  },
  {
   "cell_type": "code",
   "execution_count": 309,
   "metadata": {},
   "outputs": [],
   "source": [
    "import pandas as pd \n",
    "import numpy as np\n",
    "import matplotlib.pyplot as plt\n",
    "%matplotlib inline\n",
    "import seaborn as sns"
   ]
  },
  {
   "cell_type": "code",
   "execution_count": 310,
   "metadata": {},
   "outputs": [
    {
     "data": {
      "text/html": [
       "<div>\n",
       "<style scoped>\n",
       "    .dataframe tbody tr th:only-of-type {\n",
       "        vertical-align: middle;\n",
       "    }\n",
       "\n",
       "    .dataframe tbody tr th {\n",
       "        vertical-align: top;\n",
       "    }\n",
       "\n",
       "    .dataframe thead th {\n",
       "        text-align: right;\n",
       "    }\n",
       "</style>\n",
       "<table border=\"1\" class=\"dataframe\">\n",
       "  <thead>\n",
       "    <tr style=\"text-align: right;\">\n",
       "      <th></th>\n",
       "      <th>Unnamed: 0</th>\n",
       "      <th>_links</th>\n",
       "      <th>id</th>\n",
       "      <th>sensor</th>\n",
       "      <th>periode</th>\n",
       "      <th>naamLocatie</th>\n",
       "      <th>datumUur</th>\n",
       "      <th>aantalPassanten</th>\n",
       "      <th>gebied</th>\n",
       "      <th>geometrie</th>\n",
       "    </tr>\n",
       "  </thead>\n",
       "  <tbody>\n",
       "    <tr>\n",
       "      <th>0</th>\n",
       "      <td>0</td>\n",
       "      <td>{'schema': 'https://schemas.data.amsterdam.nl/...</td>\n",
       "      <td>54</td>\n",
       "      <td>CMSA-GAKH-01</td>\n",
       "      <td>uur</td>\n",
       "      <td>Kalverstraat t.h.v. 1</td>\n",
       "      <td>2023-07-05T12:00:00</td>\n",
       "      <td>1150</td>\n",
       "      <td>Winkelgebied centrum</td>\n",
       "      <td>{'type': 'Point', 'coordinates': [121281.37087...</td>\n",
       "    </tr>\n",
       "    <tr>\n",
       "      <th>1</th>\n",
       "      <td>1</td>\n",
       "      <td>{'schema': 'https://schemas.data.amsterdam.nl/...</td>\n",
       "      <td>434</td>\n",
       "      <td>CMSA-GAKH-01</td>\n",
       "      <td>uur</td>\n",
       "      <td>Kalverstraat t.h.v. 1</td>\n",
       "      <td>2023-05-28T11:00:00</td>\n",
       "      <td>2699</td>\n",
       "      <td>Winkelgebied centrum</td>\n",
       "      <td>{'type': 'Point', 'coordinates': [121281.37087...</td>\n",
       "    </tr>\n",
       "    <tr>\n",
       "      <th>2</th>\n",
       "      <td>2</td>\n",
       "      <td>{'schema': 'https://schemas.data.amsterdam.nl/...</td>\n",
       "      <td>445</td>\n",
       "      <td>CMSA-GAKH-01</td>\n",
       "      <td>uur</td>\n",
       "      <td>Kalverstraat t.h.v. 1</td>\n",
       "      <td>2023-05-30T04:00:00</td>\n",
       "      <td>75</td>\n",
       "      <td>Winkelgebied centrum</td>\n",
       "      <td>{'type': 'Point', 'coordinates': [121281.37087...</td>\n",
       "    </tr>\n",
       "    <tr>\n",
       "      <th>3</th>\n",
       "      <td>3</td>\n",
       "      <td>{'schema': 'https://schemas.data.amsterdam.nl/...</td>\n",
       "      <td>953</td>\n",
       "      <td>CMSA-GAKH-01</td>\n",
       "      <td>uur</td>\n",
       "      <td>Kalverstraat t.h.v. 1</td>\n",
       "      <td>2023-10-29T20:00:00</td>\n",
       "      <td>722</td>\n",
       "      <td>Winkelgebied centrum</td>\n",
       "      <td>{'type': 'Point', 'coordinates': [121281.37087...</td>\n",
       "    </tr>\n",
       "    <tr>\n",
       "      <th>4</th>\n",
       "      <td>4</td>\n",
       "      <td>{'schema': 'https://schemas.data.amsterdam.nl/...</td>\n",
       "      <td>1302</td>\n",
       "      <td>CMSA-GAKH-01</td>\n",
       "      <td>uur</td>\n",
       "      <td>Kalverstraat t.h.v. 1</td>\n",
       "      <td>2023-02-01T18:00:00</td>\n",
       "      <td>2188</td>\n",
       "      <td>Winkelgebied centrum</td>\n",
       "      <td>{'type': 'Point', 'coordinates': [121281.37087...</td>\n",
       "    </tr>\n",
       "  </tbody>\n",
       "</table>\n",
       "</div>"
      ],
      "text/plain": [
       "   Unnamed: 0                                             _links    id  \\\n",
       "0           0  {'schema': 'https://schemas.data.amsterdam.nl/...    54   \n",
       "1           1  {'schema': 'https://schemas.data.amsterdam.nl/...   434   \n",
       "2           2  {'schema': 'https://schemas.data.amsterdam.nl/...   445   \n",
       "3           3  {'schema': 'https://schemas.data.amsterdam.nl/...   953   \n",
       "4           4  {'schema': 'https://schemas.data.amsterdam.nl/...  1302   \n",
       "\n",
       "         sensor periode            naamLocatie             datumUur  \\\n",
       "0  CMSA-GAKH-01     uur  Kalverstraat t.h.v. 1  2023-07-05T12:00:00   \n",
       "1  CMSA-GAKH-01     uur  Kalverstraat t.h.v. 1  2023-05-28T11:00:00   \n",
       "2  CMSA-GAKH-01     uur  Kalverstraat t.h.v. 1  2023-05-30T04:00:00   \n",
       "3  CMSA-GAKH-01     uur  Kalverstraat t.h.v. 1  2023-10-29T20:00:00   \n",
       "4  CMSA-GAKH-01     uur  Kalverstraat t.h.v. 1  2023-02-01T18:00:00   \n",
       "\n",
       "   aantalPassanten                gebied  \\\n",
       "0             1150  Winkelgebied centrum   \n",
       "1             2699  Winkelgebied centrum   \n",
       "2               75  Winkelgebied centrum   \n",
       "3              722  Winkelgebied centrum   \n",
       "4             2188  Winkelgebied centrum   \n",
       "\n",
       "                                           geometrie  \n",
       "0  {'type': 'Point', 'coordinates': [121281.37087...  \n",
       "1  {'type': 'Point', 'coordinates': [121281.37087...  \n",
       "2  {'type': 'Point', 'coordinates': [121281.37087...  \n",
       "3  {'type': 'Point', 'coordinates': [121281.37087...  \n",
       "4  {'type': 'Point', 'coordinates': [121281.37087...  "
      ]
     },
     "execution_count": 310,
     "metadata": {},
     "output_type": "execute_result"
    }
   ],
   "source": [
    "df = pd.read_csv(\"./data/kalverstraat2023.csv\")\n",
    "df.head()"
   ]
  },
  {
   "cell_type": "code",
   "execution_count": 311,
   "metadata": {},
   "outputs": [
    {
     "name": "stdout",
     "output_type": "stream",
     "text": [
      "<class 'pandas.core.frame.DataFrame'>\n",
      "RangeIndex: 12770 entries, 0 to 12769\n",
      "Data columns (total 10 columns):\n",
      " #   Column           Non-Null Count  Dtype \n",
      "---  ------           --------------  ----- \n",
      " 0   Unnamed: 0       12770 non-null  int64 \n",
      " 1   _links           12770 non-null  object\n",
      " 2   id               12770 non-null  int64 \n",
      " 3   sensor           12770 non-null  object\n",
      " 4   periode          12770 non-null  object\n",
      " 5   naamLocatie      12770 non-null  object\n",
      " 6   datumUur         12770 non-null  object\n",
      " 7   aantalPassanten  12770 non-null  int64 \n",
      " 8   gebied           12353 non-null  object\n",
      " 9   geometrie        12353 non-null  object\n",
      "dtypes: int64(3), object(7)\n",
      "memory usage: 997.8+ KB\n"
     ]
    }
   ],
   "source": [
    "df.info()"
   ]
  },
  {
   "cell_type": "markdown",
   "metadata": {},
   "source": [
    "It appears that the attributes gebied and geometrie contain (the same amount) of nan values. Lets look at the entries"
   ]
  },
  {
   "cell_type": "code",
   "execution_count": 312,
   "metadata": {},
   "outputs": [
    {
     "data": {
      "text/html": [
       "<div>\n",
       "<style scoped>\n",
       "    .dataframe tbody tr th:only-of-type {\n",
       "        vertical-align: middle;\n",
       "    }\n",
       "\n",
       "    .dataframe tbody tr th {\n",
       "        vertical-align: top;\n",
       "    }\n",
       "\n",
       "    .dataframe thead th {\n",
       "        text-align: right;\n",
       "    }\n",
       "</style>\n",
       "<table border=\"1\" class=\"dataframe\">\n",
       "  <thead>\n",
       "    <tr style=\"text-align: right;\">\n",
       "      <th></th>\n",
       "      <th>Unnamed: 0</th>\n",
       "      <th>_links</th>\n",
       "      <th>id</th>\n",
       "      <th>sensor</th>\n",
       "      <th>periode</th>\n",
       "      <th>naamLocatie</th>\n",
       "      <th>datumUur</th>\n",
       "      <th>aantalPassanten</th>\n",
       "      <th>gebied</th>\n",
       "      <th>geometrie</th>\n",
       "    </tr>\n",
       "  </thead>\n",
       "  <tbody>\n",
       "    <tr>\n",
       "      <th>12353</th>\n",
       "      <td>12353</td>\n",
       "      <td>{'schema': 'https://schemas.data.amsterdam.nl/...</td>\n",
       "      <td>1404086</td>\n",
       "      <td>CMSA-GAKH-01</td>\n",
       "      <td>dag</td>\n",
       "      <td>Kalverstraat t.h.v. 1</td>\n",
       "      <td>2023-11-16T00:00:00</td>\n",
       "      <td>50511</td>\n",
       "      <td>NaN</td>\n",
       "      <td>NaN</td>\n",
       "    </tr>\n",
       "    <tr>\n",
       "      <th>12354</th>\n",
       "      <td>12354</td>\n",
       "      <td>{'schema': 'https://schemas.data.amsterdam.nl/...</td>\n",
       "      <td>1404380</td>\n",
       "      <td>CMSA-GAKH-01</td>\n",
       "      <td>dag</td>\n",
       "      <td>Kalverstraat t.h.v. 1</td>\n",
       "      <td>2023-07-31T00:00:00</td>\n",
       "      <td>52940</td>\n",
       "      <td>NaN</td>\n",
       "      <td>NaN</td>\n",
       "    </tr>\n",
       "    <tr>\n",
       "      <th>12355</th>\n",
       "      <td>12355</td>\n",
       "      <td>{'schema': 'https://schemas.data.amsterdam.nl/...</td>\n",
       "      <td>1404550</td>\n",
       "      <td>CMSA-GAKH-01</td>\n",
       "      <td>dag</td>\n",
       "      <td>Kalverstraat t.h.v. 1</td>\n",
       "      <td>2023-05-24T00:00:00</td>\n",
       "      <td>55246</td>\n",
       "      <td>NaN</td>\n",
       "      <td>NaN</td>\n",
       "    </tr>\n",
       "    <tr>\n",
       "      <th>12356</th>\n",
       "      <td>12356</td>\n",
       "      <td>{'schema': 'https://schemas.data.amsterdam.nl/...</td>\n",
       "      <td>1404693</td>\n",
       "      <td>CMSA-GAKH-01</td>\n",
       "      <td>dag</td>\n",
       "      <td>Kalverstraat t.h.v. 1</td>\n",
       "      <td>2023-12-15T00:00:00</td>\n",
       "      <td>77042</td>\n",
       "      <td>NaN</td>\n",
       "      <td>NaN</td>\n",
       "    </tr>\n",
       "    <tr>\n",
       "      <th>12357</th>\n",
       "      <td>12357</td>\n",
       "      <td>{'schema': 'https://schemas.data.amsterdam.nl/...</td>\n",
       "      <td>1404725</td>\n",
       "      <td>CMSA-GAKH-01</td>\n",
       "      <td>dag</td>\n",
       "      <td>Kalverstraat t.h.v. 1</td>\n",
       "      <td>2023-03-31T00:00:00</td>\n",
       "      <td>34091</td>\n",
       "      <td>NaN</td>\n",
       "      <td>NaN</td>\n",
       "    </tr>\n",
       "  </tbody>\n",
       "</table>\n",
       "</div>"
      ],
      "text/plain": [
       "       Unnamed: 0                                             _links       id  \\\n",
       "12353       12353  {'schema': 'https://schemas.data.amsterdam.nl/...  1404086   \n",
       "12354       12354  {'schema': 'https://schemas.data.amsterdam.nl/...  1404380   \n",
       "12355       12355  {'schema': 'https://schemas.data.amsterdam.nl/...  1404550   \n",
       "12356       12356  {'schema': 'https://schemas.data.amsterdam.nl/...  1404693   \n",
       "12357       12357  {'schema': 'https://schemas.data.amsterdam.nl/...  1404725   \n",
       "\n",
       "             sensor periode            naamLocatie             datumUur  \\\n",
       "12353  CMSA-GAKH-01     dag  Kalverstraat t.h.v. 1  2023-11-16T00:00:00   \n",
       "12354  CMSA-GAKH-01     dag  Kalverstraat t.h.v. 1  2023-07-31T00:00:00   \n",
       "12355  CMSA-GAKH-01     dag  Kalverstraat t.h.v. 1  2023-05-24T00:00:00   \n",
       "12356  CMSA-GAKH-01     dag  Kalverstraat t.h.v. 1  2023-12-15T00:00:00   \n",
       "12357  CMSA-GAKH-01     dag  Kalverstraat t.h.v. 1  2023-03-31T00:00:00   \n",
       "\n",
       "       aantalPassanten gebied geometrie  \n",
       "12353            50511    NaN       NaN  \n",
       "12354            52940    NaN       NaN  \n",
       "12355            55246    NaN       NaN  \n",
       "12356            77042    NaN       NaN  \n",
       "12357            34091    NaN       NaN  "
      ]
     },
     "execution_count": 312,
     "metadata": {},
     "output_type": "execute_result"
    }
   ],
   "source": [
    "df[(df.gebied.isna()) | (df.geometrie.isna())].head()"
   ]
  },
  {
   "cell_type": "code",
   "execution_count": 313,
   "metadata": {},
   "outputs": [
    {
     "data": {
      "text/plain": [
       "array(['dag'], dtype=object)"
      ]
     },
     "execution_count": 313,
     "metadata": {},
     "output_type": "execute_result"
    }
   ],
   "source": [
    "df[(df.gebied.isna()) | (df.geometrie.isna())].head().periode.unique()"
   ]
  },
  {
   "cell_type": "markdown",
   "metadata": {},
   "source": [
    "The missing values appear to be when the period is day. Lets for now skip this because we would like to do our analysis on an hourly basis. Might be good practice to compare amounts of days with the hours and see wether certain dates are missing. "
   ]
  },
  {
   "cell_type": "code",
   "execution_count": 314,
   "metadata": {},
   "outputs": [
    {
     "data": {
      "text/plain": [
       "array(['uur', 'dag', 'week'], dtype=object)"
      ]
     },
     "execution_count": 314,
     "metadata": {},
     "output_type": "execute_result"
    }
   ],
   "source": [
    "df.periode.unique()"
   ]
  },
  {
   "cell_type": "markdown",
   "metadata": {},
   "source": [
    "Another good check is to see wether the total amount of hours, days and weeks correspond to the totals of a year. It might be that the sensor had issues on certain days or was turned off. Before doing that, it is important to assign the correct datatypes to the columns to make further analysis possible. "
   ]
  },
  {
   "cell_type": "code",
   "execution_count": 315,
   "metadata": {},
   "outputs": [
    {
     "data": {
      "text/html": [
       "<div>\n",
       "<style scoped>\n",
       "    .dataframe tbody tr th:only-of-type {\n",
       "        vertical-align: middle;\n",
       "    }\n",
       "\n",
       "    .dataframe tbody tr th {\n",
       "        vertical-align: top;\n",
       "    }\n",
       "\n",
       "    .dataframe thead th {\n",
       "        text-align: right;\n",
       "    }\n",
       "</style>\n",
       "<table border=\"1\" class=\"dataframe\">\n",
       "  <thead>\n",
       "    <tr style=\"text-align: right;\">\n",
       "      <th></th>\n",
       "      <th>id</th>\n",
       "      <th>period</th>\n",
       "      <th>datetime</th>\n",
       "      <th>countPassengers</th>\n",
       "    </tr>\n",
       "  </thead>\n",
       "  <tbody>\n",
       "    <tr>\n",
       "      <th>0</th>\n",
       "      <td>54</td>\n",
       "      <td>uur</td>\n",
       "      <td>2023-07-05T12:00:00</td>\n",
       "      <td>1150</td>\n",
       "    </tr>\n",
       "    <tr>\n",
       "      <th>1</th>\n",
       "      <td>434</td>\n",
       "      <td>uur</td>\n",
       "      <td>2023-05-28T11:00:00</td>\n",
       "      <td>2699</td>\n",
       "    </tr>\n",
       "    <tr>\n",
       "      <th>2</th>\n",
       "      <td>445</td>\n",
       "      <td>uur</td>\n",
       "      <td>2023-05-30T04:00:00</td>\n",
       "      <td>75</td>\n",
       "    </tr>\n",
       "    <tr>\n",
       "      <th>3</th>\n",
       "      <td>953</td>\n",
       "      <td>uur</td>\n",
       "      <td>2023-10-29T20:00:00</td>\n",
       "      <td>722</td>\n",
       "    </tr>\n",
       "    <tr>\n",
       "      <th>4</th>\n",
       "      <td>1302</td>\n",
       "      <td>uur</td>\n",
       "      <td>2023-02-01T18:00:00</td>\n",
       "      <td>2188</td>\n",
       "    </tr>\n",
       "  </tbody>\n",
       "</table>\n",
       "</div>"
      ],
      "text/plain": [
       "     id period             datetime  countPassengers\n",
       "0    54    uur  2023-07-05T12:00:00             1150\n",
       "1   434    uur  2023-05-28T11:00:00             2699\n",
       "2   445    uur  2023-05-30T04:00:00               75\n",
       "3   953    uur  2023-10-29T20:00:00              722\n",
       "4  1302    uur  2023-02-01T18:00:00             2188"
      ]
     },
     "execution_count": 315,
     "metadata": {},
     "output_type": "execute_result"
    }
   ],
   "source": [
    "# dropping irrelevat columns and renaming to English\n",
    "# fyi, uur=hour, dag=day, week=week\n",
    "\n",
    "cols = ['id', 'periode', 'datumUur', 'aantalPassanten']\n",
    "newcols = ['id', 'period', 'datetime', 'countPassengers']\n",
    "\n",
    "df = df[cols].rename(dict(zip(cols, newcols)), axis=1)\n",
    "df.head()"
   ]
  },
  {
   "cell_type": "code",
   "execution_count": 316,
   "metadata": {},
   "outputs": [
    {
     "name": "stdout",
     "output_type": "stream",
     "text": [
      "<class 'pandas.core.frame.DataFrame'>\n",
      "RangeIndex: 12770 entries, 0 to 12769\n",
      "Data columns (total 4 columns):\n",
      " #   Column           Non-Null Count  Dtype \n",
      "---  ------           --------------  ----- \n",
      " 0   id               12770 non-null  int64 \n",
      " 1   period           12770 non-null  object\n",
      " 2   datetime         12770 non-null  object\n",
      " 3   countPassengers  12770 non-null  int64 \n",
      "dtypes: int64(2), object(2)\n",
      "memory usage: 399.2+ KB\n"
     ]
    }
   ],
   "source": [
    "df.info()"
   ]
  },
  {
   "cell_type": "code",
   "execution_count": 317,
   "metadata": {},
   "outputs": [
    {
     "name": "stdout",
     "output_type": "stream",
     "text": [
      "<class 'pandas.core.frame.DataFrame'>\n",
      "RangeIndex: 12770 entries, 0 to 12769\n",
      "Data columns (total 4 columns):\n",
      " #   Column           Non-Null Count  Dtype         \n",
      "---  ------           --------------  -----         \n",
      " 0   id               12770 non-null  int64         \n",
      " 1   period           12770 non-null  object        \n",
      " 2   datetime         12770 non-null  datetime64[ns]\n",
      " 3   countPassengers  12770 non-null  int64         \n",
      "dtypes: datetime64[ns](1), int64(2), object(1)\n",
      "memory usage: 399.2+ KB\n"
     ]
    }
   ],
   "source": [
    "# transforming the records to the correct datatype where necessary\n",
    "\n",
    "df['datetime'] = pd.to_datetime(df['datetime'], format=\"%Y-%m-%dT%H:%M:%S\")\n",
    "df.info()"
   ]
  },
  {
   "cell_type": "code",
   "execution_count": 318,
   "metadata": {},
   "outputs": [
    {
     "data": {
      "text/html": [
       "<div>\n",
       "<style scoped>\n",
       "    .dataframe tbody tr th:only-of-type {\n",
       "        vertical-align: middle;\n",
       "    }\n",
       "\n",
       "    .dataframe tbody tr th {\n",
       "        vertical-align: top;\n",
       "    }\n",
       "\n",
       "    .dataframe thead th {\n",
       "        text-align: right;\n",
       "    }\n",
       "</style>\n",
       "<table border=\"1\" class=\"dataframe\">\n",
       "  <thead>\n",
       "    <tr style=\"text-align: right;\">\n",
       "      <th></th>\n",
       "      <th>id</th>\n",
       "      <th>datetime</th>\n",
       "      <th>countPassengers</th>\n",
       "    </tr>\n",
       "  </thead>\n",
       "  <tbody>\n",
       "    <tr>\n",
       "      <th>0</th>\n",
       "      <td>286187</td>\n",
       "      <td>2023-01-01 00:00:00</td>\n",
       "      <td>3633</td>\n",
       "    </tr>\n",
       "    <tr>\n",
       "      <th>1</th>\n",
       "      <td>696190</td>\n",
       "      <td>2023-01-01 00:00:00</td>\n",
       "      <td>3633</td>\n",
       "    </tr>\n",
       "    <tr>\n",
       "      <th>3</th>\n",
       "      <td>776538</td>\n",
       "      <td>2023-01-01 02:00:00</td>\n",
       "      <td>893</td>\n",
       "    </tr>\n",
       "    <tr>\n",
       "      <th>4</th>\n",
       "      <td>366531</td>\n",
       "      <td>2023-01-01 02:00:00</td>\n",
       "      <td>893</td>\n",
       "    </tr>\n",
       "    <tr>\n",
       "      <th>7</th>\n",
       "      <td>71694</td>\n",
       "      <td>2023-01-01 05:00:00</td>\n",
       "      <td>557</td>\n",
       "    </tr>\n",
       "    <tr>\n",
       "      <th>...</th>\n",
       "      <td>...</td>\n",
       "      <td>...</td>\n",
       "      <td>...</td>\n",
       "    </tr>\n",
       "    <tr>\n",
       "      <th>12341</th>\n",
       "      <td>640413</td>\n",
       "      <td>2023-12-31 14:00:00</td>\n",
       "      <td>6963</td>\n",
       "    </tr>\n",
       "    <tr>\n",
       "      <th>12348</th>\n",
       "      <td>782207</td>\n",
       "      <td>2023-12-31 21:00:00</td>\n",
       "      <td>3310</td>\n",
       "    </tr>\n",
       "    <tr>\n",
       "      <th>12349</th>\n",
       "      <td>372200</td>\n",
       "      <td>2023-12-31 21:00:00</td>\n",
       "      <td>3310</td>\n",
       "    </tr>\n",
       "    <tr>\n",
       "      <th>12350</th>\n",
       "      <td>558518</td>\n",
       "      <td>2023-12-31 22:00:00</td>\n",
       "      <td>3675</td>\n",
       "    </tr>\n",
       "    <tr>\n",
       "      <th>12351</th>\n",
       "      <td>148514</td>\n",
       "      <td>2023-12-31 22:00:00</td>\n",
       "      <td>3675</td>\n",
       "    </tr>\n",
       "  </tbody>\n",
       "</table>\n",
       "<p>7188 rows × 3 columns</p>\n",
       "</div>"
      ],
      "text/plain": [
       "           id            datetime  countPassengers\n",
       "0      286187 2023-01-01 00:00:00             3633\n",
       "1      696190 2023-01-01 00:00:00             3633\n",
       "3      776538 2023-01-01 02:00:00              893\n",
       "4      366531 2023-01-01 02:00:00              893\n",
       "7       71694 2023-01-01 05:00:00              557\n",
       "...       ...                 ...              ...\n",
       "12341  640413 2023-12-31 14:00:00             6963\n",
       "12348  782207 2023-12-31 21:00:00             3310\n",
       "12349  372200 2023-12-31 21:00:00             3310\n",
       "12350  558518 2023-12-31 22:00:00             3675\n",
       "12351  148514 2023-12-31 22:00:00             3675\n",
       "\n",
       "[7188 rows x 3 columns]"
      ]
     },
     "execution_count": 318,
     "metadata": {},
     "output_type": "execute_result"
    }
   ],
   "source": [
    "df_uur = df[df['period'] == \"uur\"].drop(['period'], axis=1).sort_values('datetime').reset_index(drop=True).copy()\n",
    "df_day = df[df['period'] == \"dag\"].drop(['period'], axis=1).sort_values('datetime').reset_index(drop=True).copy()\n",
    "df_week = df[df['period'] == \"week\"].drop(['period'], axis=1).sort_values('datetime').reset_index(drop=True).copy()\n",
    "\n",
    "df_uur[df_uur.duplicated(subset='datetime', keep=False)]\n",
    "\n",
    "# print(f'The number of hours: {df_uur.size()}')"
   ]
  },
  {
   "cell_type": "markdown",
   "metadata": {},
   "source": [
    "In the analysis it was found that many of the values occur twice. I do not have a straight-forward answer on why this is the case, but feel confident that this is done by the sensor for good measure. The countpassenger and datetime are exactly the same. The df for days and weeks do not show this problem. We continue for now by dropping all the second values when datetime and countpassenger are duplicate.\n",
    "\n",
    "*During later exploration there was a discrepency found between the average count of people per day when looking at the period of hours. The assumption above has been revoked and the duplicates have now been added*"
   ]
  },
  {
   "cell_type": "code",
   "execution_count": 319,
   "metadata": {},
   "outputs": [
    {
     "name": "stdout",
     "output_type": "stream",
     "text": [
      "The size before adding duplicates: 12353\n",
      "The size after adding duplicates: 8759\n"
     ]
    }
   ],
   "source": [
    "print(f\"The size before adding duplicates: {df_uur.shape[0]}\")\n",
    "# df_uur = df_uur.drop_duplicates(subset=['datetime', 'countPassengers'], keep='first')\n",
    "df_uur = df_uur.groupby('datetime').sum().reset_index()\n",
    "print(f\"The size after adding duplicates: {df_uur.shape[0]}\")"
   ]
  },
  {
   "cell_type": "code",
   "execution_count": 320,
   "metadata": {},
   "outputs": [
    {
     "name": "stdout",
     "output_type": "stream",
     "text": [
      "The registered hours are 8759 which is 99.98858447488584% of the total number of hours\n",
      "The registered days are 365 which is 100.0% of the total number of days\n",
      "The registered weeks are 52 which is 100.0% of the total number of weeks\n"
     ]
    }
   ],
   "source": [
    "weeks_year = 52\n",
    "days_year = 365\n",
    "hours_year = days_year * 24\n",
    "\n",
    "print(f'The registered hours are {df_uur.shape[0]} which is {df_uur.shape[0] * 100 / hours_year}% of the total number of hours')\n",
    "print(f'The registered days are {df_day.shape[0]} which is {df_day.shape[0] * 100 / days_year}% of the total number of days')\n",
    "print(f'The registered weeks are {df_week.shape[0]} which is {df_week.shape[0] * 100 / weeks_year}% of the total number of weeks')"
   ]
  },
  {
   "cell_type": "markdown",
   "metadata": {},
   "source": [
    "It appears that the municipality has done very good bookkeeping !! Lets do a last check to see wether there are any nan values present or zeros. "
   ]
  },
  {
   "cell_type": "code",
   "execution_count": 321,
   "metadata": {},
   "outputs": [
    {
     "name": "stdout",
     "output_type": "stream",
     "text": [
      "The number of nan values is: 0\n",
      "The number of zero values is: 0\n"
     ]
    }
   ],
   "source": [
    "print(f'The number of nan values is: {df[\"countPassengers\"].isna().sum()}')\n",
    "print(f'The number of zero values is: {df[\"countPassengers\"].isnull().sum()}')"
   ]
  },
  {
   "cell_type": "markdown",
   "metadata": {},
   "source": [
    "## Exploratory Data Analysis\n",
    "\n",
    "*Exploring the data by means of statistics and visualization*\n",
    "\n",
    "Now that we have cleaned our data, we will look at each of the attributes from left to right. In our case though, there is only one attribute at the moment, which is the count of passengers. For this attribute we will look at the following:\n",
    "1. Do the aggregates per day and week correspond to what we see per hour?\n",
    "2. What do the histograms look like per day of the week? \n",
    "3. Are there any exceptional outliers?\n",
    "\n",
    "Additionally my girlfriend and I also did a little bet on some questions listed in a table below. At the end of the data analysis I will announce the winner, loser buys food. \n",
    "\n",
    "| Questions | Baeda | Sammie |\n",
    "| --- | --- | --- |\n",
    "|Busiest day overall | 22nd of December | Kingsday! (27th of April)  |\n",
    "|Busiest day of the week | Saturday | Saturday |\n",
    "|Busiest hour during workweek | 17 - 18 | 12 - 13|\n",
    "|Busiest hour during weekend | 13-14 | 14-15 | \n",
    "|Least busy day of the year | 01/01/23 | 01/01/23 |"
   ]
  },
  {
   "cell_type": "code",
   "execution_count": 322,
   "metadata": {},
   "outputs": [
    {
     "data": {
      "text/html": [
       "<div>\n",
       "<style scoped>\n",
       "    .dataframe tbody tr th:only-of-type {\n",
       "        vertical-align: middle;\n",
       "    }\n",
       "\n",
       "    .dataframe tbody tr th {\n",
       "        vertical-align: top;\n",
       "    }\n",
       "\n",
       "    .dataframe thead th {\n",
       "        text-align: right;\n",
       "    }\n",
       "</style>\n",
       "<table border=\"1\" class=\"dataframe\">\n",
       "  <thead>\n",
       "    <tr style=\"text-align: right;\">\n",
       "      <th></th>\n",
       "      <th>id</th>\n",
       "      <th>countPassengers</th>\n",
       "    </tr>\n",
       "    <tr>\n",
       "      <th>datetime</th>\n",
       "      <th></th>\n",
       "      <th></th>\n",
       "    </tr>\n",
       "  </thead>\n",
       "  <tbody>\n",
       "    <tr>\n",
       "      <th>2023-01-01</th>\n",
       "      <td>22084816</td>\n",
       "      <td>63610</td>\n",
       "    </tr>\n",
       "    <tr>\n",
       "      <th>2023-01-02</th>\n",
       "      <td>25843373</td>\n",
       "      <td>59354</td>\n",
       "    </tr>\n",
       "    <tr>\n",
       "      <th>2023-01-03</th>\n",
       "      <td>23997185</td>\n",
       "      <td>56043</td>\n",
       "    </tr>\n",
       "    <tr>\n",
       "      <th>2023-01-04</th>\n",
       "      <td>23562947</td>\n",
       "      <td>65920</td>\n",
       "    </tr>\n",
       "    <tr>\n",
       "      <th>2023-01-05</th>\n",
       "      <td>24192721</td>\n",
       "      <td>66563</td>\n",
       "    </tr>\n",
       "    <tr>\n",
       "      <th>...</th>\n",
       "      <td>...</td>\n",
       "      <td>...</td>\n",
       "    </tr>\n",
       "    <tr>\n",
       "      <th>2023-12-27</th>\n",
       "      <td>24078537</td>\n",
       "      <td>88119</td>\n",
       "    </tr>\n",
       "    <tr>\n",
       "      <th>2023-12-28</th>\n",
       "      <td>22563200</td>\n",
       "      <td>113039</td>\n",
       "    </tr>\n",
       "    <tr>\n",
       "      <th>2023-12-29</th>\n",
       "      <td>25664011</td>\n",
       "      <td>85536</td>\n",
       "    </tr>\n",
       "    <tr>\n",
       "      <th>2023-12-30</th>\n",
       "      <td>24523427</td>\n",
       "      <td>91495</td>\n",
       "    </tr>\n",
       "    <tr>\n",
       "      <th>2023-12-31</th>\n",
       "      <td>22559010</td>\n",
       "      <td>88432</td>\n",
       "    </tr>\n",
       "  </tbody>\n",
       "</table>\n",
       "<p>365 rows × 2 columns</p>\n",
       "</div>"
      ],
      "text/plain": [
       "                  id  countPassengers\n",
       "datetime                             \n",
       "2023-01-01  22084816            63610\n",
       "2023-01-02  25843373            59354\n",
       "2023-01-03  23997185            56043\n",
       "2023-01-04  23562947            65920\n",
       "2023-01-05  24192721            66563\n",
       "...              ...              ...\n",
       "2023-12-27  24078537            88119\n",
       "2023-12-28  22563200           113039\n",
       "2023-12-29  25664011            85536\n",
       "2023-12-30  24523427            91495\n",
       "2023-12-31  22559010            88432\n",
       "\n",
       "[365 rows x 2 columns]"
      ]
     },
     "execution_count": 322,
     "metadata": {},
     "output_type": "execute_result"
    }
   ],
   "source": [
    "# Do the aggregates per day and per week correspond to what we see per hour? \n",
    "\n",
    "df_uur_to_day = df_uur.copy()\n",
    "df_uur_to_day['datetime'] = df_uur_to_day['datetime'].dt.date\n",
    "df_uur_to_day = df_uur_to_day.groupby('datetime').sum()\n",
    "df_uur_to_day"
   ]
  },
  {
   "cell_type": "code",
   "execution_count": 323,
   "metadata": {},
   "outputs": [
    {
     "name": "stdout",
     "output_type": "stream",
     "text": [
      "58822.93424657534\n",
      "58822.93424657534\n",
      "58809.78296703297\n"
     ]
    }
   ],
   "source": [
    "print(df_uur_to_day.countPassengers.mean())\n",
    "print(df_day.countPassengers.mean())\n",
    "print(df_week.countPassengers.mean()/7)\n"
   ]
  },
  {
   "cell_type": "markdown",
   "metadata": {},
   "source": [
    "Comparing the averages show that the hourly count has a significant discrepancy compared to the daily and weekly count. My hunge is that this is due to the dropping of the so-called duplicates and that these should actually have been added up. Lets change the assumption and have a look!\n",
    "\n",
    "*This Hunge was correct, values are the same now*"
   ]
  },
  {
   "cell_type": "code",
   "execution_count": 325,
   "metadata": {},
   "outputs": [
    {
     "name": "stdout",
     "output_type": "stream",
     "text": [
      "The busiest day of the year was 2023-04-19 00:00:00 with 145822\n",
      "The least busy day of the year was 2023-01-10 00:00:00 with 20032\n",
      "On average the amount of passing passengers was: 58822.93424657534\n",
      "--------------------------------------------------------------------------------\n",
      "\n",
      "\n",
      "The top five busiest days:\n",
      "          id   datetime  countPassengers\n",
      "108  1417248 2023-04-19           145822\n",
      "270  1422576 2023-09-28           134238\n",
      "361  1405776 2023-12-28           113039\n",
      "216  1417485 2023-08-05           108325\n",
      "327  1435417 2023-11-24           104646\n",
      "\n",
      "\n",
      "The top five least busy days:\n",
      "          id   datetime  countPassengers\n",
      "78   1421782 2023-03-20            24928\n",
      "345  1436170 2023-12-12            23463\n",
      "15   1407280 2023-01-16            23458\n",
      "11   1440710 2023-01-12            20164\n",
      "9    1416247 2023-01-10            20032\n"
     ]
    }
   ],
   "source": [
    "# What were the busiest days of the week? \n",
    "\n",
    "busiest_idx = df_day[\"countPassengers\"].idxmax()\n",
    "busiest_day = df_day.loc[busiest_idx, 'datetime']\n",
    "max_passengers = df_day.loc[busiest_idx, 'countPassengers']\n",
    "\n",
    "quiet_idx = df_day[\"countPassengers\"].idxmin()\n",
    "quiet_day = df_day.loc[quiet_idx, 'datetime']\n",
    "min_passengers = df_day.loc[quiet_idx, 'countPassengers']\n",
    "\n",
    "\n",
    "print(f\"The busiest day of the year was {busiest_day} with {max_passengers}\")\n",
    "print(f\"The least busy day of the year was {quiet_day} with {min_passengers}\")\n",
    "print(f\"On average the amount of passing passengers was: {df_day['countPassengers'].mean()}\")\n",
    "\n",
    "print(\"--\" * 40)\n",
    "print(\"\\n\")\n",
    "print(\"The top five busiest days:\")\n",
    "print(df_day.sort_values('countPassengers', ascending=False).head())\n",
    "print(\"\\n\")\n",
    "print(\"The top five least busy days:\")\n",
    "print(df_day.sort_values('countPassengers', ascending=False).tail())"
   ]
  },
  {
   "cell_type": "code",
   "execution_count": 336,
   "metadata": {},
   "outputs": [
    {
     "data": {
      "text/plain": [
       "Text(0.5, 0.98, 'Average counts of passengers per day of the week')"
      ]
     },
     "execution_count": 336,
     "metadata": {},
     "output_type": "execute_result"
    },
    {
     "data": {
      "image/png": "[encoded data removed]",
      "text/plain": [
       "<Figure size 1600x1600 with 9 Axes>"
      ]
     },
     "metadata": {},
     "output_type": "display_data"
    }
   ],
   "source": [
    "# Comparison traffic per day of the week\n",
    "\n",
    "df_uur['dayOfWeek'] = df_uur['datetime'].dt.day_name()\n",
    "df_uur['hour'] = df_uur['datetime'].dt.hour\n",
    "\n",
    "fig, axs = plt.subplots(3, 3, figsize = (16, 16))\n",
    "fig.subplots_adjust(hspace=0.4, wspace=0.4)\n",
    "\n",
    "days = [\"Monday\", \"Tuesday\", \"Wednesday\", \"Thursday\", \"Friday\", \"Saturday\", \"Sunday\"]\n",
    "\n",
    "for i, day in enumerate(days):\n",
    "    ax = axs[i//3, i%3]\n",
    "\n",
    "    day_data = df_uur[(df_uur['dayOfWeek'] == day)]\n",
    "    mean_counts = day_data.groupby('hour')['countPassengers'].mean()\n",
    "    max_count = mean_counts.max()\n",
    "\n",
    "    colors = ['skyblue' if x < max_count else 'blue' for x in mean_counts]\n",
    "\n",
    "    bars = ax.bar(mean_counts.index, mean_counts, color=colors, edgecolor='black')\n",
    "    ax.set_title(day)  # Set the title to the day\n",
    "    ax.set_xlabel('Hour of the Day')\n",
    "    ax.set_ylabel('Average Count')\n",
    "    ax.set_xticks(range(0, 24, 3))\n",
    "    ax.set_ylim(0, 10000)\n",
    "    ax.grid(True)\n",
    "    \n",
    "fig.suptitle('Average counts of passengers per day of the week')"
   ]
  },
  {
   "cell_type": "markdown",
   "metadata": {},
   "source": [
    "Sadly, I lost... However, still had great pizza :D. I find it suprising to see how little variation there is between the days of the week. I expected somewhat of a spike during weekdays at lunch, but cannot really find that. "
   ]
  },
  {
   "cell_type": "markdown",
   "metadata": {},
   "source": [
    "## Goals and objectives\n",
    "\n",
    "We try to analyze the traffic at the kalverstraat. For this research the following research questions have been established:\n",
    "\n",
    "1. What are the times to avoid the Kalverstraat when going shopping? \n",
    "4. How do seasonal variations (summer vs winter) affect the traffic?\n",
    "5. Does precipitation effect the traffic?\n",
    "\n",
    "\n"
   ]
  },
  {
   "cell_type": "markdown",
   "metadata": {},
   "source": []
  }
 ],
 "metadata": {
  "language_info": {
   "name": "python"
  }
 },
 "nbformat": 4,
 "nbformat_minor": 2
}
